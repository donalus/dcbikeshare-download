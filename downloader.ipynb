{
 "cells": [
  {
   "cell_type": "code",
   "execution_count": 1,
   "metadata": {},
   "outputs": [],
   "source": [
    "from pathlib import Path\n",
    "import pandas as pd\n",
    "import requests\n",
    "import zipfile\n",
    "from tqdm.notebook import tqdm, trange\n",
    "from lxml import etree"
   ]
  },
  {
   "cell_type": "code",
   "execution_count": 2,
   "metadata": {},
   "outputs": [
    {
     "data": {
      "text/plain": [
       "81"
      ]
     },
     "execution_count": 2,
     "metadata": {},
     "output_type": "execute_result"
    }
   ],
   "source": [
    "p = Path('.')\n",
    "len(list(p.glob('data/*.zip')))"
   ]
  },
  {
   "cell_type": "code",
   "execution_count": 3,
   "metadata": {},
   "outputs": [
    {
     "data": {
      "text/plain": [
       "['2010-capitalbikeshare-tripdata.zip',\n",
       " '2011-capitalbikeshare-tripdata.zip',\n",
       " '2012-capitalbikeshare-tripdata.zip',\n",
       " '2013-capitalbikeshare-tripdata.zip',\n",
       " '2014-capitalbikeshare-tripdata.zip']"
      ]
     },
     "execution_count": 3,
     "metadata": {},
     "output_type": "execute_result"
    }
   ],
   "source": [
    "s3_url = 'https://s3.amazonaws.com/capitalbikeshare-data/'\n",
    "r = requests.get(s3_url)\n",
    "s3xml = etree.fromstring(r.content)\n",
    "files = s3xml.xpath('/x:ListBucketResult/x:Contents/x:Key/text()', namespaces={'x': 'http://s3.amazonaws.com/doc/2006-03-01/'})\n",
    "files[:5]"
   ]
  },
  {
   "cell_type": "code",
   "execution_count": 67,
   "metadata": {},
   "outputs": [
    {
     "data": {
      "text/html": [
       "<div>\n",
       "<style scoped>\n",
       "    .dataframe tbody tr th:only-of-type {\n",
       "        vertical-align: middle;\n",
       "    }\n",
       "\n",
       "    .dataframe tbody tr th {\n",
       "        vertical-align: top;\n",
       "    }\n",
       "\n",
       "    .dataframe thead th {\n",
       "        text-align: right;\n",
       "    }\n",
       "</style>\n",
       "<table border=\"1\" class=\"dataframe\">\n",
       "  <thead>\n",
       "    <tr style=\"text-align: right;\">\n",
       "      <th></th>\n",
       "      <th>filename</th>\n",
       "      <th>date_prefix</th>\n",
       "      <th>year</th>\n",
       "    </tr>\n",
       "  </thead>\n",
       "  <tbody>\n",
       "    <tr>\n",
       "      <th>77</th>\n",
       "      <td>202310-capitalbikeshare-tripdata.zip</td>\n",
       "      <td>202310</td>\n",
       "      <td>2023</td>\n",
       "    </tr>\n",
       "    <tr>\n",
       "      <th>78</th>\n",
       "      <td>202311-capitalbikeshare-tripdata.zip</td>\n",
       "      <td>202311</td>\n",
       "      <td>2023</td>\n",
       "    </tr>\n",
       "    <tr>\n",
       "      <th>79</th>\n",
       "      <td>202312-capitalbikeshare-tripdata.zip</td>\n",
       "      <td>202312</td>\n",
       "      <td>2023</td>\n",
       "    </tr>\n",
       "    <tr>\n",
       "      <th>80</th>\n",
       "      <td>202401-capitalbikeshare-tripdata.zip</td>\n",
       "      <td>202401</td>\n",
       "      <td>2024</td>\n",
       "    </tr>\n",
       "    <tr>\n",
       "      <th>81</th>\n",
       "      <td>202402-capitalbikeshare-tripdata.zip</td>\n",
       "      <td>202402</td>\n",
       "      <td>2024</td>\n",
       "    </tr>\n",
       "  </tbody>\n",
       "</table>\n",
       "</div>"
      ],
      "text/plain": [
       "                                filename date_prefix  year\n",
       "77  202310-capitalbikeshare-tripdata.zip      202310  2023\n",
       "78  202311-capitalbikeshare-tripdata.zip      202311  2023\n",
       "79  202312-capitalbikeshare-tripdata.zip      202312  2023\n",
       "80  202401-capitalbikeshare-tripdata.zip      202401  2024\n",
       "81  202402-capitalbikeshare-tripdata.zip      202402  2024"
      ]
     },
     "execution_count": 67,
     "metadata": {},
     "output_type": "execute_result"
    }
   ],
   "source": [
    "df = pd.DataFrame([f for f in files if f.endswith('.zip')], columns=['filename'])\n",
    "df['date_prefix'] = df['filename'].str.split('-', n=1).str[0]\n",
    "df['year'] = df['date_prefix'].str[:4]\n",
    "df.tail()"
   ]
  },
  {
   "cell_type": "code",
   "execution_count": 43,
   "metadata": {},
   "outputs": [],
   "source": [
    "def get_file(url, filename, path=Path('downloads')):\n",
    "    if not path.is_dir():\n",
    "        path.mkdir()\n",
    "    r = requests.get(url + filename)\n",
    "    open(path / filename, \"wb\").write(r.content)\n",
    "\n",
    "def unzip_file(filename, path=Path('unzipped')):\n",
    "    if not path.is_dir():\n",
    "        path.mkdir()\n",
    "    with zipfile.ZipFile(filename, 'r') as zip:\n",
    "        if len(zip.infolist()) > 0:\n",
    "            files = [f for f in zip.namelist() if not f.startswith('__MACOSX') and f.endswith('.csv')]\n",
    "            if len(files) == 1:\n",
    "                zip.extract(files[0], path)\n",
    "            if len(files) > 1:\n",
    "                tmp = []\n",
    "                for f in files:\n",
    "                    with zip.open(f) as csv:\n",
    "                        tmp.append(pd.read_csv(csv))\n",
    "                df = pd.concat(tmp)\n",
    "                df.to_csv(path / filename[:-3] + 'csv', index=False)"
   ]
  },
  {
   "cell_type": "code",
   "execution_count": 8,
   "metadata": {},
   "outputs": [
    {
     "data": {
      "text/plain": [
       "'202112-capitalbikeshare-tripdata.csv'"
      ]
     },
     "execution_count": 8,
     "metadata": {},
     "output_type": "execute_result"
    }
   ],
   "source": [
    "'202112-capitalbikeshare-tripdata.zip'[:-3]+'csv'"
   ]
  },
  {
   "cell_type": "code",
   "execution_count": 5,
   "metadata": {},
   "outputs": [
    {
     "name": "stdout",
     "output_type": "stream",
     "text": [
      "1\n"
     ]
    }
   ],
   "source": [
    "with zipfile.ZipFile('data/202112-capitalbikeshare-tripdata.zip', 'r') as zip:\n",
    "    csv = [f for f in zip.namelist() if not f.startswith('__MACOSX') and f.endswith('.csv')]\n",
    "    print(len(csv))"
   ]
  },
  {
   "cell_type": "code",
   "execution_count": 6,
   "metadata": {},
   "outputs": [],
   "source": [
    "\n",
    "path = Path('unzipped')\n",
    "with zipfile.ZipFile('data/2012-capitalbikeshare-tripdata.zip', 'r') as zip:\n",
    "    if len(zip.infolist()) > 0:\n",
    "        files = [f for f in zip.namelist() if not f.startswith('__MACOSX') and f.endswith('.csv')]\n",
    "        if len(files) == 1:\n",
    "            zip.extract(files[0], path)\n",
    "        if len(files) > 1:\n",
    "            tmp = []\n",
    "            for f in files:\n",
    "                with zip.open(f) as csv:\n",
    "                    tmp.append(pd.read_csv(csv))\n",
    "            df = pd.concat(tmp)\n",
    "            df.to_csv(path / '2012-capitalbikeshare-tripdata.csv', index=False)"
   ]
  },
  {
   "cell_type": "code",
   "execution_count": null,
   "metadata": {},
   "outputs": [],
   "source": [
    "zip_dir = Path('downloads')\n",
    "unzip_dir = Path('unzipped')\n",
    "for file in tqdm(files):\n",
    "    get_file(s3_url, file, path=zip_dir)\n",
    "    unzip_file(zip_dir / file, path=unzip_dir)\n",
    "print(f'Downloaded {len(list(unzip_dir.glob('*.csv')))} files.')"
   ]
  }
 ],
 "metadata": {
  "kernelspec": {
   "display_name": "inst447_sp24",
   "language": "python",
   "name": "python3"
  },
  "language_info": {
   "codemirror_mode": {
    "name": "ipython",
    "version": 3
   },
   "file_extension": ".py",
   "mimetype": "text/x-python",
   "name": "python",
   "nbconvert_exporter": "python",
   "pygments_lexer": "ipython3",
   "version": "3.11.6"
  }
 },
 "nbformat": 4,
 "nbformat_minor": 4
}
